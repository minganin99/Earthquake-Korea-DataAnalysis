{
 "cells": [
  {
   "cell_type": "code",
   "execution_count": 2,
   "metadata": {},
   "outputs": [],
   "source": [
    "import pandas as pd"
   ]
  },
  {
   "cell_type": "code",
   "execution_count": 3,
   "metadata": {},
   "outputs": [
    {
     "data": {
      "text/html": [
       "<div>\n",
       "<style scoped>\n",
       "    .dataframe tbody tr th:only-of-type {\n",
       "        vertical-align: middle;\n",
       "    }\n",
       "\n",
       "    .dataframe tbody tr th {\n",
       "        vertical-align: top;\n",
       "    }\n",
       "\n",
       "    .dataframe thead th {\n",
       "        text-align: right;\n",
       "    }\n",
       "</style>\n",
       "<table border=\"1\" class=\"dataframe\">\n",
       "  <thead>\n",
       "    <tr style=\"text-align: right;\">\n",
       "      <th></th>\n",
       "      <th>regn_cd</th>\n",
       "      <th>info</th>\n",
       "      <th>legend</th>\n",
       "      <th>sig_nam</th>\n",
       "      <th>emd_cd</th>\n",
       "    </tr>\n",
       "  </thead>\n",
       "  <tbody>\n",
       "    <tr>\n",
       "      <th>0</th>\n",
       "      <td>11110101</td>\n",
       "      <td>0.1-0.2</td>\n",
       "      <td>2</td>\n",
       "      <td>서울특별시</td>\n",
       "      <td>11110101</td>\n",
       "    </tr>\n",
       "    <tr>\n",
       "      <th>1</th>\n",
       "      <td>11110102</td>\n",
       "      <td>0.1-0.2</td>\n",
       "      <td>2</td>\n",
       "      <td>서울특별시</td>\n",
       "      <td>11110102</td>\n",
       "    </tr>\n",
       "    <tr>\n",
       "      <th>2</th>\n",
       "      <td>11110103</td>\n",
       "      <td>0.1-0.2</td>\n",
       "      <td>2</td>\n",
       "      <td>서울특별시</td>\n",
       "      <td>11110103</td>\n",
       "    </tr>\n",
       "    <tr>\n",
       "      <th>3</th>\n",
       "      <td>11110104</td>\n",
       "      <td>0.1-0.2</td>\n",
       "      <td>2</td>\n",
       "      <td>서울특별시</td>\n",
       "      <td>11110104</td>\n",
       "    </tr>\n",
       "    <tr>\n",
       "      <th>4</th>\n",
       "      <td>11110105</td>\n",
       "      <td>0.1-0.2</td>\n",
       "      <td>2</td>\n",
       "      <td>서울특별시</td>\n",
       "      <td>11110105</td>\n",
       "    </tr>\n",
       "    <tr>\n",
       "      <th>...</th>\n",
       "      <td>...</td>\n",
       "      <td>...</td>\n",
       "      <td>...</td>\n",
       "      <td>...</td>\n",
       "      <td>...</td>\n",
       "    </tr>\n",
       "    <tr>\n",
       "      <th>3027</th>\n",
       "      <td>52800310</td>\n",
       "      <td>0.2 - 0.4</td>\n",
       "      <td>1</td>\n",
       "      <td>전라북도 정읍시</td>\n",
       "      <td>52800310</td>\n",
       "    </tr>\n",
       "    <tr>\n",
       "      <th>3028</th>\n",
       "      <td>52800320</td>\n",
       "      <td>0.5-1.0</td>\n",
       "      <td>2</td>\n",
       "      <td>전라북도 김제시</td>\n",
       "      <td>52800320</td>\n",
       "    </tr>\n",
       "    <tr>\n",
       "      <th>3029</th>\n",
       "      <td>52800350</td>\n",
       "      <td>0.2 - 0.4</td>\n",
       "      <td>1</td>\n",
       "      <td>전라북도 정읍시</td>\n",
       "      <td>52800350</td>\n",
       "    </tr>\n",
       "    <tr>\n",
       "      <th>3030</th>\n",
       "      <td>52800380</td>\n",
       "      <td>0.5-1.0</td>\n",
       "      <td>2</td>\n",
       "      <td>전라북도 김제시</td>\n",
       "      <td>52800380</td>\n",
       "    </tr>\n",
       "    <tr>\n",
       "      <th>3031</th>\n",
       "      <td>52800410</td>\n",
       "      <td>0.2 - 0.4</td>\n",
       "      <td>1</td>\n",
       "      <td>전라북도 정읍시</td>\n",
       "      <td>52800410</td>\n",
       "    </tr>\n",
       "  </tbody>\n",
       "</table>\n",
       "<p>3032 rows × 5 columns</p>\n",
       "</div>"
      ],
      "text/plain": [
       "       regn_cd       info  legend   sig_nam    emd_cd\n",
       "0     11110101    0.1-0.2       2     서울특별시  11110101\n",
       "1     11110102    0.1-0.2       2     서울특별시  11110102\n",
       "2     11110103    0.1-0.2       2     서울특별시  11110103\n",
       "3     11110104    0.1-0.2       2     서울특별시  11110104\n",
       "4     11110105    0.1-0.2       2     서울특별시  11110105\n",
       "...        ...        ...     ...       ...       ...\n",
       "3027  52800310  0.2 - 0.4       1  전라북도 정읍시  52800310\n",
       "3028  52800320    0.5-1.0       2  전라북도 김제시  52800320\n",
       "3029  52800350  0.2 - 0.4       1  전라북도 정읍시  52800350\n",
       "3030  52800380    0.5-1.0       2  전라북도 김제시  52800380\n",
       "3031  52800410  0.2 - 0.4       1  전라북도 정읍시  52800410\n",
       "\n",
       "[3032 rows x 5 columns]"
      ]
     },
     "execution_count": 3,
     "metadata": {},
     "output_type": "execute_result"
    }
   ],
   "source": [
    "df = pd.read_csv('dataset/지반,지질/2011년_지질구조밀도현황.csv')\n",
    "df"
   ]
  },
  {
   "cell_type": "code",
   "execution_count": 4,
   "metadata": {},
   "outputs": [
    {
     "data": {
      "text/html": [
       "<div>\n",
       "<style scoped>\n",
       "    .dataframe tbody tr th:only-of-type {\n",
       "        vertical-align: middle;\n",
       "    }\n",
       "\n",
       "    .dataframe tbody tr th {\n",
       "        vertical-align: top;\n",
       "    }\n",
       "\n",
       "    .dataframe thead th {\n",
       "        text-align: right;\n",
       "    }\n",
       "</style>\n",
       "<table border=\"1\" class=\"dataframe\">\n",
       "  <thead>\n",
       "    <tr style=\"text-align: right;\">\n",
       "      <th></th>\n",
       "      <th>regn_cd</th>\n",
       "      <th>info</th>\n",
       "      <th>legend</th>\n",
       "      <th>sig_nam</th>\n",
       "    </tr>\n",
       "  </thead>\n",
       "  <tbody>\n",
       "    <tr>\n",
       "      <th>0</th>\n",
       "      <td>11110101</td>\n",
       "      <td>0.1-0.2</td>\n",
       "      <td>2</td>\n",
       "      <td>서울특별시</td>\n",
       "    </tr>\n",
       "    <tr>\n",
       "      <th>1</th>\n",
       "      <td>11110102</td>\n",
       "      <td>0.1-0.2</td>\n",
       "      <td>2</td>\n",
       "      <td>서울특별시</td>\n",
       "    </tr>\n",
       "    <tr>\n",
       "      <th>2</th>\n",
       "      <td>11110103</td>\n",
       "      <td>0.1-0.2</td>\n",
       "      <td>2</td>\n",
       "      <td>서울특별시</td>\n",
       "    </tr>\n",
       "    <tr>\n",
       "      <th>3</th>\n",
       "      <td>11110104</td>\n",
       "      <td>0.1-0.2</td>\n",
       "      <td>2</td>\n",
       "      <td>서울특별시</td>\n",
       "    </tr>\n",
       "    <tr>\n",
       "      <th>4</th>\n",
       "      <td>11110105</td>\n",
       "      <td>0.1-0.2</td>\n",
       "      <td>2</td>\n",
       "      <td>서울특별시</td>\n",
       "    </tr>\n",
       "    <tr>\n",
       "      <th>...</th>\n",
       "      <td>...</td>\n",
       "      <td>...</td>\n",
       "      <td>...</td>\n",
       "      <td>...</td>\n",
       "    </tr>\n",
       "    <tr>\n",
       "      <th>3027</th>\n",
       "      <td>52800310</td>\n",
       "      <td>0.2 - 0.4</td>\n",
       "      <td>1</td>\n",
       "      <td>전라북도 정읍시</td>\n",
       "    </tr>\n",
       "    <tr>\n",
       "      <th>3028</th>\n",
       "      <td>52800320</td>\n",
       "      <td>0.5-1.0</td>\n",
       "      <td>2</td>\n",
       "      <td>전라북도 김제시</td>\n",
       "    </tr>\n",
       "    <tr>\n",
       "      <th>3029</th>\n",
       "      <td>52800350</td>\n",
       "      <td>0.2 - 0.4</td>\n",
       "      <td>1</td>\n",
       "      <td>전라북도 정읍시</td>\n",
       "    </tr>\n",
       "    <tr>\n",
       "      <th>3030</th>\n",
       "      <td>52800380</td>\n",
       "      <td>0.5-1.0</td>\n",
       "      <td>2</td>\n",
       "      <td>전라북도 김제시</td>\n",
       "    </tr>\n",
       "    <tr>\n",
       "      <th>3031</th>\n",
       "      <td>52800410</td>\n",
       "      <td>0.2 - 0.4</td>\n",
       "      <td>1</td>\n",
       "      <td>전라북도 정읍시</td>\n",
       "    </tr>\n",
       "  </tbody>\n",
       "</table>\n",
       "<p>3032 rows × 4 columns</p>\n",
       "</div>"
      ],
      "text/plain": [
       "       regn_cd       info  legend   sig_nam\n",
       "0     11110101    0.1-0.2       2     서울특별시\n",
       "1     11110102    0.1-0.2       2     서울특별시\n",
       "2     11110103    0.1-0.2       2     서울특별시\n",
       "3     11110104    0.1-0.2       2     서울특별시\n",
       "4     11110105    0.1-0.2       2     서울특별시\n",
       "...        ...        ...     ...       ...\n",
       "3027  52800310  0.2 - 0.4       1  전라북도 정읍시\n",
       "3028  52800320    0.5-1.0       2  전라북도 김제시\n",
       "3029  52800350  0.2 - 0.4       1  전라북도 정읍시\n",
       "3030  52800380    0.5-1.0       2  전라북도 김제시\n",
       "3031  52800410  0.2 - 0.4       1  전라북도 정읍시\n",
       "\n",
       "[3032 rows x 4 columns]"
      ]
     },
     "execution_count": 4,
     "metadata": {},
     "output_type": "execute_result"
    }
   ],
   "source": [
    "df = df.drop([\"emd_cd\"], axis=1) \n",
    "df"
   ]
  },
  {
   "cell_type": "code",
   "execution_count": 5,
   "metadata": {},
   "outputs": [
    {
     "name": "stdout",
     "output_type": "stream",
     "text": [
      "<class 'pandas.core.frame.DataFrame'>\n",
      "RangeIndex: 3032 entries, 0 to 3031\n",
      "Data columns (total 4 columns):\n",
      " #   Column   Non-Null Count  Dtype \n",
      "---  ------   --------------  ----- \n",
      " 0   regn_cd  3032 non-null   int64 \n",
      " 1   info     3032 non-null   object\n",
      " 2   legend   3032 non-null   int64 \n",
      " 3   sig_nam  3032 non-null   object\n",
      "dtypes: int64(2), object(2)\n",
      "memory usage: 94.9+ KB\n"
     ]
    }
   ],
   "source": [
    "df.info()"
   ]
  },
  {
   "cell_type": "code",
   "execution_count": 7,
   "metadata": {},
   "outputs": [
    {
     "data": {
      "text/plain": [
       "regn_cd    0\n",
       "info       0\n",
       "legend     0\n",
       "sig_nam    0\n",
       "emd_cd     0\n",
       "dtype: int64"
      ]
     },
     "execution_count": 7,
     "metadata": {},
     "output_type": "execute_result"
    }
   ],
   "source": [
    "df.isna().sum()"
   ]
  },
  {
   "cell_type": "code",
   "execution_count": 8,
   "metadata": {},
   "outputs": [
    {
     "data": {
      "text/plain": [
       "regn_cd     int64\n",
       "info       object\n",
       "legend      int64\n",
       "sig_nam    object\n",
       "emd_cd      int64\n",
       "dtype: object"
      ]
     },
     "execution_count": 8,
     "metadata": {},
     "output_type": "execute_result"
    }
   ],
   "source": [
    "df.dtypes"
   ]
  },
  {
   "cell_type": "markdown",
   "metadata": {},
   "source": [
    "국내 지반침하"
   ]
  },
  {
   "cell_type": "code",
   "execution_count": 18,
   "metadata": {},
   "outputs": [
    {
     "data": {
      "text/html": [
       "<div>\n",
       "<style scoped>\n",
       "    .dataframe tbody tr th:only-of-type {\n",
       "        vertical-align: middle;\n",
       "    }\n",
       "\n",
       "    .dataframe tbody tr th {\n",
       "        vertical-align: top;\n",
       "    }\n",
       "\n",
       "    .dataframe thead th {\n",
       "        text-align: right;\n",
       "    }\n",
       "</style>\n",
       "<table border=\"1\" class=\"dataframe\">\n",
       "  <thead>\n",
       "    <tr style=\"text-align: right;\">\n",
       "      <th></th>\n",
       "      <th>사고번호</th>\n",
       "      <th>사고 시도명</th>\n",
       "      <th>사고 시군구명</th>\n",
       "      <th>상세 발생원인</th>\n",
       "      <th>사고일자</th>\n",
       "      <th>항목순번</th>\n",
       "    </tr>\n",
       "  </thead>\n",
       "  <tbody>\n",
       "    <tr>\n",
       "      <th>0</th>\n",
       "      <td>20240001</td>\n",
       "      <td>서울특별시</td>\n",
       "      <td>성북구</td>\n",
       "      <td>다짐불량</td>\n",
       "      <td>20240103</td>\n",
       "      <td>1</td>\n",
       "    </tr>\n",
       "    <tr>\n",
       "      <th>1</th>\n",
       "      <td>20240002</td>\n",
       "      <td>강원특별자치도</td>\n",
       "      <td>고성군</td>\n",
       "      <td>오피스텔 신축공사 현장흙막이벽 내 균열로 인한 지하수 유입에 따른 싱크홀 추정 오후...</td>\n",
       "      <td>20240105</td>\n",
       "      <td>2</td>\n",
       "    </tr>\n",
       "    <tr>\n",
       "      <th>2</th>\n",
       "      <td>20240003</td>\n",
       "      <td>강원특별자치도</td>\n",
       "      <td>고성군</td>\n",
       "      <td>24.1.8 오후 4시경 흙막이벽 보수공사 중 크랙발생ccip공사 중 수압으로 흙막...</td>\n",
       "      <td>20240108</td>\n",
       "      <td>3</td>\n",
       "    </tr>\n",
       "    <tr>\n",
       "      <th>3</th>\n",
       "      <td>20240006</td>\n",
       "      <td>경기도</td>\n",
       "      <td>용인시 기흥구</td>\n",
       "      <td>인근 광역상수3단계 설치공사 현장 지하수 펌핑에 따른 지반침하 가능성 있음</td>\n",
       "      <td>20240110</td>\n",
       "      <td>4</td>\n",
       "    </tr>\n",
       "    <tr>\n",
       "      <th>4</th>\n",
       "      <td>20240007</td>\n",
       "      <td>서울특별시</td>\n",
       "      <td>강남구</td>\n",
       "      <td>하수박스 이설에 따른 빗물받이 연결관 미폐공으로 추정</td>\n",
       "      <td>20240116</td>\n",
       "      <td>5</td>\n",
       "    </tr>\n",
       "    <tr>\n",
       "      <th>5</th>\n",
       "      <td>20240009</td>\n",
       "      <td>경기도</td>\n",
       "      <td>파주시</td>\n",
       "      <td>송전선로 매설공사(비개착 공법)에 따른 공동 발생 (추정)</td>\n",
       "      <td>20240203</td>\n",
       "      <td>6</td>\n",
       "    </tr>\n",
       "    <tr>\n",
       "      <th>6</th>\n",
       "      <td>20240010</td>\n",
       "      <td>경기도</td>\n",
       "      <td>남양주시</td>\n",
       "      <td>우수관(D1000㎜) 파손으로 인한 우수 유출되어 지반 침식으로 싱크홀 발생</td>\n",
       "      <td>20240206</td>\n",
       "      <td>7</td>\n",
       "    </tr>\n",
       "    <tr>\n",
       "      <th>7</th>\n",
       "      <td>20240011</td>\n",
       "      <td>서울특별시</td>\n",
       "      <td>성북구</td>\n",
       "      <td>지하연결통로공사 해빙기 토사유실로 추정</td>\n",
       "      <td>20240223</td>\n",
       "      <td>8</td>\n",
       "    </tr>\n",
       "    <tr>\n",
       "      <th>8</th>\n",
       "      <td>20230001</td>\n",
       "      <td>부산광역시</td>\n",
       "      <td>사상구</td>\n",
       "      <td>노후 하수시설(U형측구) 파손 등으로 인한 누수 발생에 따른 토사 유실로 지반침하 발생</td>\n",
       "      <td>20230105</td>\n",
       "      <td>1</td>\n",
       "    </tr>\n",
       "    <tr>\n",
       "      <th>9</th>\n",
       "      <td>20230002</td>\n",
       "      <td>전북특별자치도</td>\n",
       "      <td>김제시</td>\n",
       "      <td>자연침하</td>\n",
       "      <td>20230102</td>\n",
       "      <td>2</td>\n",
       "    </tr>\n",
       "    <tr>\n",
       "      <th>10</th>\n",
       "      <td>20230003</td>\n",
       "      <td>서울특별시</td>\n",
       "      <td>도봉구</td>\n",
       "      <td>건축물 신축 공사장 굴토(철거) 작업장 인근으로 원인 확인중</td>\n",
       "      <td>20230113</td>\n",
       "      <td>3</td>\n",
       "    </tr>\n",
       "    <tr>\n",
       "      <th>11</th>\n",
       "      <td>20230004</td>\n",
       "      <td>경상남도</td>\n",
       "      <td>창원시 진해구</td>\n",
       "      <td>다짐불량</td>\n",
       "      <td>20230113</td>\n",
       "      <td>4</td>\n",
       "    </tr>\n",
       "    <tr>\n",
       "      <th>12</th>\n",
       "      <td>20230005</td>\n",
       "      <td>경기도</td>\n",
       "      <td>시흥시</td>\n",
       "      <td>흙막이벽체(지하연속벽) 시공이음부 콘크리트 재로분리로 인한 공극부 누수 발생</td>\n",
       "      <td>20230126</td>\n",
       "      <td>5</td>\n",
       "    </tr>\n",
       "    <tr>\n",
       "      <th>13</th>\n",
       "      <td>20230007</td>\n",
       "      <td>강원특별자치도</td>\n",
       "      <td>속초시</td>\n",
       "      <td>차수공법 시공 미흡으로 흙막이 벽체 틈 사이로 토사와 지하수가 유출</td>\n",
       "      <td>20230211</td>\n",
       "      <td>6</td>\n",
       "    </tr>\n",
       "    <tr>\n",
       "      <th>14</th>\n",
       "      <td>20230008</td>\n",
       "      <td>전라남도</td>\n",
       "      <td>무안군</td>\n",
       "      <td>조사 중</td>\n",
       "      <td>20230203</td>\n",
       "      <td>7</td>\n",
       "    </tr>\n",
       "    <tr>\n",
       "      <th>15</th>\n",
       "      <td>20230009</td>\n",
       "      <td>서울특별시</td>\n",
       "      <td>서초구</td>\n",
       "      <td>통신케이블 처짐 및 가시설 미제거에 의한 장기 침하(추정)</td>\n",
       "      <td>20230217</td>\n",
       "      <td>8</td>\n",
       "    </tr>\n",
       "    <tr>\n",
       "      <th>16</th>\n",
       "      <td>20230010</td>\n",
       "      <td>강원특별자치도</td>\n",
       "      <td>강릉시</td>\n",
       "      <td>NaN</td>\n",
       "      <td>20230227</td>\n",
       "      <td>9</td>\n",
       "    </tr>\n",
       "    <tr>\n",
       "      <th>17</th>\n",
       "      <td>20230011</td>\n",
       "      <td>경상북도</td>\n",
       "      <td>경산시</td>\n",
       "      <td>D300mm 주철관 이음부 볼트 체결 약화에 따른 수도 누수로 인하여 경미한 지반 ...</td>\n",
       "      <td>20230305</td>\n",
       "      <td>10</td>\n",
       "    </tr>\n",
       "    <tr>\n",
       "      <th>18</th>\n",
       "      <td>20240071</td>\n",
       "      <td>경기도</td>\n",
       "      <td>용인시 기흥구</td>\n",
       "      <td>우수관 혹은 전력관  파손으로 인한 침하 추정</td>\n",
       "      <td>20240825</td>\n",
       "      <td>1</td>\n",
       "    </tr>\n",
       "  </tbody>\n",
       "</table>\n",
       "</div>"
      ],
      "text/plain": [
       "        사고번호   사고 시도명  사고 시군구명  \\\n",
       "0   20240001    서울특별시      성북구   \n",
       "1   20240002  강원특별자치도      고성군   \n",
       "2   20240003  강원특별자치도      고성군   \n",
       "3   20240006      경기도  용인시 기흥구   \n",
       "4   20240007    서울특별시      강남구   \n",
       "5   20240009      경기도      파주시   \n",
       "6   20240010      경기도     남양주시   \n",
       "7   20240011    서울특별시      성북구   \n",
       "8   20230001    부산광역시      사상구   \n",
       "9   20230002  전북특별자치도      김제시   \n",
       "10  20230003    서울특별시      도봉구   \n",
       "11  20230004     경상남도  창원시 진해구   \n",
       "12  20230005      경기도      시흥시   \n",
       "13  20230007  강원특별자치도      속초시   \n",
       "14  20230008     전라남도      무안군   \n",
       "15  20230009    서울특별시      서초구   \n",
       "16  20230010  강원특별자치도      강릉시   \n",
       "17  20230011     경상북도      경산시   \n",
       "18  20240071      경기도  용인시 기흥구   \n",
       "\n",
       "                                              상세 발생원인      사고일자  항목순번  \n",
       "0                                                다짐불량  20240103     1  \n",
       "1   오피스텔 신축공사 현장흙막이벽 내 균열로 인한 지하수 유입에 따른 싱크홀 추정 오후...  20240105     2  \n",
       "2   24.1.8 오후 4시경 흙막이벽 보수공사 중 크랙발생ccip공사 중 수압으로 흙막...  20240108     3  \n",
       "3           인근 광역상수3단계 설치공사 현장 지하수 펌핑에 따른 지반침하 가능성 있음  20240110     4  \n",
       "4                       하수박스 이설에 따른 빗물받이 연결관 미폐공으로 추정  20240116     5  \n",
       "5                    송전선로 매설공사(비개착 공법)에 따른 공동 발생 (추정)  20240203     6  \n",
       "6          우수관(D1000㎜) 파손으로 인한 우수 유출되어 지반 침식으로 싱크홀 발생  20240206     7  \n",
       "7                               지하연결통로공사 해빙기 토사유실로 추정  20240223     8  \n",
       "8    노후 하수시설(U형측구) 파손 등으로 인한 누수 발생에 따른 토사 유실로 지반침하 발생  20230105     1  \n",
       "9                                                자연침하  20230102     2  \n",
       "10                  건축물 신축 공사장 굴토(철거) 작업장 인근으로 원인 확인중  20230113     3  \n",
       "11                                               다짐불량  20230113     4  \n",
       "12         흙막이벽체(지하연속벽) 시공이음부 콘크리트 재로분리로 인한 공극부 누수 발생  20230126     5  \n",
       "13              차수공법 시공 미흡으로 흙막이 벽체 틈 사이로 토사와 지하수가 유출  20230211     6  \n",
       "14                                               조사 중  20230203     7  \n",
       "15                   통신케이블 처짐 및 가시설 미제거에 의한 장기 침하(추정)  20230217     8  \n",
       "16                                                NaN  20230227     9  \n",
       "17  D300mm 주철관 이음부 볼트 체결 약화에 따른 수도 누수로 인하여 경미한 지반 ...  20230305    10  \n",
       "18                          우수관 혹은 전력관  파손으로 인한 침하 추정  20240825     1  "
      ]
     },
     "execution_count": 18,
     "metadata": {},
     "output_type": "execute_result"
    }
   ],
   "source": [
    "df1 = pd.read_csv('dataset/지반,지질/2024년도_한국_지반침하사고데이터.csv')\n",
    "df1"
   ]
  },
  {
   "cell_type": "code",
   "execution_count": 31,
   "metadata": {},
   "outputs": [
    {
     "data": {
      "text/plain": [
       "사고번호       0\n",
       "사고 시도명     0\n",
       "사고 시군구명    0\n",
       "상세 발생원인    0\n",
       "사고일자       0\n",
       "항목순번       0\n",
       "dtype: int64"
      ]
     },
     "execution_count": 31,
     "metadata": {},
     "output_type": "execute_result"
    }
   ],
   "source": [
    "df1 = df1.fillna('원인미상')\n",
    "df1.isna().sum()"
   ]
  },
  {
   "cell_type": "code",
   "execution_count": 20,
   "metadata": {},
   "outputs": [
    {
     "name": "stdout",
     "output_type": "stream",
     "text": [
      "<class 'pandas.core.frame.DataFrame'>\n",
      "RangeIndex: 19 entries, 0 to 18\n",
      "Data columns (total 6 columns):\n",
      " #   Column  Non-Null Count  Dtype \n",
      "---  ------  --------------  ----- \n",
      " 0   사고번호    19 non-null     int64 \n",
      " 1   시도      19 non-null     object\n",
      " 2   시군구     19 non-null     object\n",
      " 3   상세발생원인  18 non-null     object\n",
      " 4   발생일자    19 non-null     int64 \n",
      " 5   순번      19 non-null     int64 \n",
      "dtypes: int64(3), object(3)\n",
      "memory usage: 1.0+ KB\n"
     ]
    }
   ],
   "source": [
    "df1.info()"
   ]
  },
  {
   "cell_type": "code",
   "execution_count": 21,
   "metadata": {},
   "outputs": [
    {
     "data": {
      "text/plain": [
       "사고번호      0\n",
       "시도        0\n",
       "시군구       0\n",
       "상세발생원인    1\n",
       "발생일자      0\n",
       "순번        0\n",
       "dtype: int64"
      ]
     },
     "execution_count": 21,
     "metadata": {},
     "output_type": "execute_result"
    }
   ],
   "source": [
    "df1.isna().sum()"
   ]
  },
  {
   "cell_type": "code",
   "execution_count": 22,
   "metadata": {},
   "outputs": [
    {
     "data": {
      "text/plain": [
       "사고번호       int64\n",
       "시도        object\n",
       "시군구       object\n",
       "상세발생원인    object\n",
       "발생일자       int64\n",
       "순번         int64\n",
       "dtype: object"
      ]
     },
     "execution_count": 22,
     "metadata": {},
     "output_type": "execute_result"
    }
   ],
   "source": [
    "df1.dtypes"
   ]
  },
  {
   "cell_type": "code",
   "execution_count": 7,
   "metadata": {},
   "outputs": [
    {
     "data": {
      "text/html": [
       "<div>\n",
       "<style scoped>\n",
       "    .dataframe tbody tr th:only-of-type {\n",
       "        vertical-align: middle;\n",
       "    }\n",
       "\n",
       "    .dataframe tbody tr th {\n",
       "        vertical-align: top;\n",
       "    }\n",
       "\n",
       "    .dataframe thead th {\n",
       "        text-align: right;\n",
       "    }\n",
       "</style>\n",
       "<table border=\"1\" class=\"dataframe\">\n",
       "  <thead>\n",
       "    <tr style=\"text-align: right;\">\n",
       "      <th></th>\n",
       "      <th>사고번호</th>\n",
       "      <th>사고 시도명</th>\n",
       "      <th>사고 시군구명</th>\n",
       "      <th>상세 발생원인</th>\n",
       "      <th>사고일자</th>\n",
       "      <th>항목순번</th>\n",
       "    </tr>\n",
       "  </thead>\n",
       "  <tbody>\n",
       "    <tr>\n",
       "      <th>0</th>\n",
       "      <td>20220006</td>\n",
       "      <td>인천광역시</td>\n",
       "      <td>미추홀구</td>\n",
       "      <td>인천 2호선 지하철 공사 진행시 h-beam 근처로 다짐이 부족하여 싱크홀 발생</td>\n",
       "      <td>20161201</td>\n",
       "      <td>1</td>\n",
       "    </tr>\n",
       "    <tr>\n",
       "      <th>1</th>\n",
       "      <td>20180018</td>\n",
       "      <td>전북특별자치도</td>\n",
       "      <td>정읍시</td>\n",
       "      <td>농배수로관 노후로 인하여 지반 침하</td>\n",
       "      <td>20180102</td>\n",
       "      <td>1</td>\n",
       "    </tr>\n",
       "    <tr>\n",
       "      <th>2</th>\n",
       "      <td>20180019</td>\n",
       "      <td>광주광역시</td>\n",
       "      <td>광산구</td>\n",
       "      <td>하수암거박스 파손에 의한 동공발생 및 지반침하</td>\n",
       "      <td>20180103</td>\n",
       "      <td>2</td>\n",
       "    </tr>\n",
       "    <tr>\n",
       "      <th>3</th>\n",
       "      <td>20180020</td>\n",
       "      <td>경상남도</td>\n",
       "      <td>사천시</td>\n",
       "      <td>오수맨홀 주변 토사 유실</td>\n",
       "      <td>20180112</td>\n",
       "      <td>1</td>\n",
       "    </tr>\n",
       "    <tr>\n",
       "      <th>4</th>\n",
       "      <td>20180021</td>\n",
       "      <td>충청북도</td>\n",
       "      <td>청주시 흥덕구</td>\n",
       "      <td>하수관 파손에 의한 동공발생 및 지반침하</td>\n",
       "      <td>20180116</td>\n",
       "      <td>2</td>\n",
       "    </tr>\n",
       "    <tr>\n",
       "      <th>...</th>\n",
       "      <td>...</td>\n",
       "      <td>...</td>\n",
       "      <td>...</td>\n",
       "      <td>...</td>\n",
       "      <td>...</td>\n",
       "      <td>...</td>\n",
       "    </tr>\n",
       "    <tr>\n",
       "      <th>1341</th>\n",
       "      <td>20240096</td>\n",
       "      <td>부산광역시</td>\n",
       "      <td>사상구</td>\n",
       "      <td>지하사고조사위원회에서 원인 조사중</td>\n",
       "      <td>20240921</td>\n",
       "      <td>12</td>\n",
       "    </tr>\n",
       "    <tr>\n",
       "      <th>1342</th>\n",
       "      <td>20240101</td>\n",
       "      <td>경기도</td>\n",
       "      <td>파주시</td>\n",
       "      <td>현장 인근 상수도관 파열로 인한 침하</td>\n",
       "      <td>20240909</td>\n",
       "      <td>13</td>\n",
       "    </tr>\n",
       "    <tr>\n",
       "      <th>1343</th>\n",
       "      <td>20240102</td>\n",
       "      <td>전북특별자치도</td>\n",
       "      <td>전주시 완산구</td>\n",
       "      <td>지하관로 CCTV 촬영 하였지만 문제점 확인 불가.</td>\n",
       "      <td>20240924</td>\n",
       "      <td>1</td>\n",
       "    </tr>\n",
       "    <tr>\n",
       "      <th>1344</th>\n",
       "      <td>20240103</td>\n",
       "      <td>인천광역시</td>\n",
       "      <td>부평구</td>\n",
       "      <td>인근 재개발공사측 굴착공사 관리 미흡</td>\n",
       "      <td>20241004</td>\n",
       "      <td>2</td>\n",
       "    </tr>\n",
       "    <tr>\n",
       "      <th>1345</th>\n",
       "      <td>20240104</td>\n",
       "      <td>광주광역시</td>\n",
       "      <td>광산구</td>\n",
       "      <td>노후하수관로 파손으로 인한 지반침하</td>\n",
       "      <td>20241015</td>\n",
       "      <td>3</td>\n",
       "    </tr>\n",
       "  </tbody>\n",
       "</table>\n",
       "<p>1346 rows × 6 columns</p>\n",
       "</div>"
      ],
      "text/plain": [
       "          사고번호   사고 시도명  사고 시군구명  \\\n",
       "0     20220006    인천광역시     미추홀구   \n",
       "1     20180018  전북특별자치도      정읍시   \n",
       "2     20180019    광주광역시      광산구   \n",
       "3     20180020     경상남도      사천시   \n",
       "4     20180021     충청북도  청주시 흥덕구   \n",
       "...        ...      ...      ...   \n",
       "1341  20240096    부산광역시      사상구   \n",
       "1342  20240101      경기도      파주시   \n",
       "1343  20240102  전북특별자치도  전주시 완산구   \n",
       "1344  20240103    인천광역시      부평구   \n",
       "1345  20240104    광주광역시      광산구   \n",
       "\n",
       "                                           상세 발생원인      사고일자  항목순번  \n",
       "0     인천 2호선 지하철 공사 진행시 h-beam 근처로 다짐이 부족하여 싱크홀 발생  20161201     1  \n",
       "1                              농배수로관 노후로 인하여 지반 침하  20180102     1  \n",
       "2                        하수암거박스 파손에 의한 동공발생 및 지반침하  20180103     2  \n",
       "3                                    오수맨홀 주변 토사 유실  20180112     1  \n",
       "4                           하수관 파손에 의한 동공발생 및 지반침하  20180116     2  \n",
       "...                                            ...       ...   ...  \n",
       "1341                            지하사고조사위원회에서 원인 조사중  20240921    12  \n",
       "1342                          현장 인근 상수도관 파열로 인한 침하  20240909    13  \n",
       "1343                  지하관로 CCTV 촬영 하였지만 문제점 확인 불가.  20240924     1  \n",
       "1344                          인근 재개발공사측 굴착공사 관리 미흡  20241004     2  \n",
       "1345                           노후하수관로 파손으로 인한 지반침하  20241015     3  \n",
       "\n",
       "[1346 rows x 6 columns]"
      ]
     },
     "execution_count": 7,
     "metadata": {},
     "output_type": "execute_result"
    }
   ],
   "source": [
    "df2 = pd.read_csv('dataset/지반,지질/국내지반_사고현황.csv')\n",
    "df2"
   ]
  },
  {
   "cell_type": "code",
   "execution_count": 30,
   "metadata": {},
   "outputs": [
    {
     "data": {
      "text/plain": [
       "사고번호       0\n",
       "사고 시도명     0\n",
       "사고 시군구명    0\n",
       "상세 발생원인    0\n",
       "사고일자       0\n",
       "항목순번       0\n",
       "dtype: int64"
      ]
     },
     "execution_count": 30,
     "metadata": {},
     "output_type": "execute_result"
    }
   ],
   "source": [
    "df2 = df2.fillna('원인미상')\n",
    "df2.isna().sum()"
   ]
  },
  {
   "cell_type": "code",
   "execution_count": 16,
   "metadata": {},
   "outputs": [
    {
     "name": "stdout",
     "output_type": "stream",
     "text": [
      "<class 'pandas.core.frame.DataFrame'>\n",
      "RangeIndex: 1346 entries, 0 to 1345\n",
      "Data columns (total 6 columns):\n",
      " #   Column   Non-Null Count  Dtype \n",
      "---  ------   --------------  ----- \n",
      " 0   사고번호     1346 non-null   int64 \n",
      " 1   사고 시도명   1346 non-null   object\n",
      " 2   사고 시군구명  1346 non-null   object\n",
      " 3   상세 발생원인  1346 non-null   object\n",
      " 4   사고일자     1346 non-null   int64 \n",
      " 5   항목순번     1346 non-null   int64 \n",
      "dtypes: int64(3), object(3)\n",
      "memory usage: 63.2+ KB\n"
     ]
    }
   ],
   "source": [
    "df2.info()"
   ]
  },
  {
   "cell_type": "code",
   "execution_count": 15,
   "metadata": {},
   "outputs": [
    {
     "data": {
      "text/plain": [
       "사고번호        0\n",
       "사고 시도명      0\n",
       "사고 시군구명     2\n",
       "상세 발생원인    95\n",
       "사고일자        0\n",
       "항목순번        0\n",
       "dtype: int64"
      ]
     },
     "execution_count": 15,
     "metadata": {},
     "output_type": "execute_result"
    }
   ],
   "source": [
    "df2.isna().sum()"
   ]
  },
  {
   "cell_type": "code",
   "execution_count": 16,
   "metadata": {},
   "outputs": [
    {
     "data": {
      "text/plain": [
       "사고번호        int64\n",
       "사고 시도명     object\n",
       "사고 시군구명    object\n",
       "상세 발생원인    object\n",
       "사고일자        int64\n",
       "항목순번        int64\n",
       "dtype: object"
      ]
     },
     "execution_count": 16,
     "metadata": {},
     "output_type": "execute_result"
    }
   ],
   "source": [
    "df2.dtypes"
   ]
  },
  {
   "cell_type": "code",
   "execution_count": 32,
   "metadata": {},
   "outputs": [
    {
     "data": {
      "text/html": [
       "<div>\n",
       "<style scoped>\n",
       "    .dataframe tbody tr th:only-of-type {\n",
       "        vertical-align: middle;\n",
       "    }\n",
       "\n",
       "    .dataframe tbody tr th {\n",
       "        vertical-align: top;\n",
       "    }\n",
       "\n",
       "    .dataframe thead th {\n",
       "        text-align: right;\n",
       "    }\n",
       "</style>\n",
       "<table border=\"1\" class=\"dataframe\">\n",
       "  <thead>\n",
       "    <tr style=\"text-align: right;\">\n",
       "      <th></th>\n",
       "      <th>사고번호</th>\n",
       "      <th>사고 시도명</th>\n",
       "      <th>사고 시군구명</th>\n",
       "      <th>상세 발생원인</th>\n",
       "      <th>사고일자</th>\n",
       "      <th>항목순번</th>\n",
       "    </tr>\n",
       "  </thead>\n",
       "  <tbody>\n",
       "    <tr>\n",
       "      <th>0</th>\n",
       "      <td>20180001</td>\n",
       "      <td>서울특별시</td>\n",
       "      <td>강남구</td>\n",
       "      <td>열수송관(D600mm) 노후 손상으로 함몰 발생\\n(굴착복구 미흡분야로 관리)</td>\n",
       "      <td>20180301</td>\n",
       "      <td>1</td>\n",
       "    </tr>\n",
       "    <tr>\n",
       "      <th>1</th>\n",
       "      <td>20180002</td>\n",
       "      <td>서울특별시</td>\n",
       "      <td>송파구</td>\n",
       "      <td>상수관(？300mm)에서 분기된 소화전 연결관(？100mm) 동파로 누수되어 함몰발생</td>\n",
       "      <td>20180304</td>\n",
       "      <td>2</td>\n",
       "    </tr>\n",
       "    <tr>\n",
       "      <th>2</th>\n",
       "      <td>20180003</td>\n",
       "      <td>서울특별시</td>\n",
       "      <td>구로구</td>\n",
       "      <td>KT 통신맨홀 슬라브 파손\\n(굴착복구 미흡분야로 관리)</td>\n",
       "      <td>20180311</td>\n",
       "      <td>3</td>\n",
       "    </tr>\n",
       "    <tr>\n",
       "      <th>3</th>\n",
       "      <td>20180004</td>\n",
       "      <td>서울특별시</td>\n",
       "      <td>영등포구</td>\n",
       "      <td>하수관로(D450㎜) 노후？파손으로 토사유실</td>\n",
       "      <td>20180313</td>\n",
       "      <td>1</td>\n",
       "    </tr>\n",
       "    <tr>\n",
       "      <th>4</th>\n",
       "      <td>20180005</td>\n",
       "      <td>서울특별시</td>\n",
       "      <td>영등포구</td>\n",
       "      <td>인근 공사차량(레미콘차) 중량에 의한 노후 하수박스 상판파손(하수박스 1946년 부설)</td>\n",
       "      <td>20180327</td>\n",
       "      <td>2</td>\n",
       "    </tr>\n",
       "    <tr>\n",
       "      <th>...</th>\n",
       "      <td>...</td>\n",
       "      <td>...</td>\n",
       "      <td>...</td>\n",
       "      <td>...</td>\n",
       "      <td>...</td>\n",
       "      <td>...</td>\n",
       "    </tr>\n",
       "    <tr>\n",
       "      <th>1360</th>\n",
       "      <td>20240100</td>\n",
       "      <td>경기도</td>\n",
       "      <td>파주시</td>\n",
       "      <td>시트 파일 시공장비로 인한 진동 및 하중에 의해 지반침하 발생 및 실트질의 액상화</td>\n",
       "      <td>20240820</td>\n",
       "      <td>18</td>\n",
       "    </tr>\n",
       "    <tr>\n",
       "      <th>1361</th>\n",
       "      <td>20240101</td>\n",
       "      <td>경기도</td>\n",
       "      <td>파주시</td>\n",
       "      <td>현장 인근 상수도관 파열로 인한 침하</td>\n",
       "      <td>20240909</td>\n",
       "      <td>13</td>\n",
       "    </tr>\n",
       "    <tr>\n",
       "      <th>1362</th>\n",
       "      <td>20240102</td>\n",
       "      <td>전북특별자치도</td>\n",
       "      <td>전주시 완산구</td>\n",
       "      <td>지하관로 CCTV 촬영 하였지만 문제점 확인 불가.</td>\n",
       "      <td>20240924</td>\n",
       "      <td>1</td>\n",
       "    </tr>\n",
       "    <tr>\n",
       "      <th>1363</th>\n",
       "      <td>20240103</td>\n",
       "      <td>인천광역시</td>\n",
       "      <td>부평구</td>\n",
       "      <td>인근 재개발공사측 굴착공사 관리 미흡</td>\n",
       "      <td>20241004</td>\n",
       "      <td>2</td>\n",
       "    </tr>\n",
       "    <tr>\n",
       "      <th>1364</th>\n",
       "      <td>20240104</td>\n",
       "      <td>광주광역시</td>\n",
       "      <td>광산구</td>\n",
       "      <td>노후하수관로 파손으로 인한 지반침하</td>\n",
       "      <td>20241015</td>\n",
       "      <td>3</td>\n",
       "    </tr>\n",
       "  </tbody>\n",
       "</table>\n",
       "<p>1365 rows × 6 columns</p>\n",
       "</div>"
      ],
      "text/plain": [
       "          사고번호   사고 시도명  사고 시군구명  \\\n",
       "0     20180001    서울특별시      강남구   \n",
       "1     20180002    서울특별시      송파구   \n",
       "2     20180003    서울특별시      구로구   \n",
       "3     20180004    서울특별시     영등포구   \n",
       "4     20180005    서울특별시     영등포구   \n",
       "...        ...      ...      ...   \n",
       "1360  20240100      경기도      파주시   \n",
       "1361  20240101      경기도      파주시   \n",
       "1362  20240102  전북특별자치도  전주시 완산구   \n",
       "1363  20240103    인천광역시      부평구   \n",
       "1364  20240104    광주광역시      광산구   \n",
       "\n",
       "                                               상세 발생원인      사고일자  항목순번  \n",
       "0          열수송관(D600mm) 노후 손상으로 함몰 발생\\n(굴착복구 미흡분야로 관리)  20180301     1  \n",
       "1      상수관(？300mm)에서 분기된 소화전 연결관(？100mm) 동파로 누수되어 함몰발생  20180304     2  \n",
       "2                      KT 통신맨홀 슬라브 파손\\n(굴착복구 미흡분야로 관리)  20180311     3  \n",
       "3                             하수관로(D450㎜) 노후？파손으로 토사유실  20180313     1  \n",
       "4     인근 공사차량(레미콘차) 중량에 의한 노후 하수박스 상판파손(하수박스 1946년 부설)  20180327     2  \n",
       "...                                                ...       ...   ...  \n",
       "1360     시트 파일 시공장비로 인한 진동 및 하중에 의해 지반침하 발생 및 실트질의 액상화  20240820    18  \n",
       "1361                              현장 인근 상수도관 파열로 인한 침하  20240909    13  \n",
       "1362                      지하관로 CCTV 촬영 하였지만 문제점 확인 불가.  20240924     1  \n",
       "1363                              인근 재개발공사측 굴착공사 관리 미흡  20241004     2  \n",
       "1364                               노후하수관로 파손으로 인한 지반침하  20241015     3  \n",
       "\n",
       "[1365 rows x 6 columns]"
      ]
     },
     "execution_count": 32,
     "metadata": {},
     "output_type": "execute_result"
    }
   ],
   "source": [
    "df3 = pd.merge(df1,df2, how='outer')\n",
    "df3"
   ]
  },
  {
   "cell_type": "code",
   "execution_count": 33,
   "metadata": {},
   "outputs": [],
   "source": [
    "df3.to_csv('dataset/지반,지질/전체 지반사고.csv')"
   ]
  },
  {
   "cell_type": "code",
   "execution_count": 29,
   "metadata": {},
   "outputs": [
    {
     "name": "stdout",
     "output_type": "stream",
     "text": [
      "<class 'pandas.core.frame.DataFrame'>\n",
      "RangeIndex: 1365 entries, 0 to 1364\n",
      "Data columns (total 6 columns):\n",
      " #   Column   Non-Null Count  Dtype \n",
      "---  ------   --------------  ----- \n",
      " 0   사고번호     1365 non-null   int64 \n",
      " 1   사고 시도명   1365 non-null   object\n",
      " 2   사고 시군구명  1363 non-null   object\n",
      " 3   상세 발생원인  1269 non-null   object\n",
      " 4   사고일자     1365 non-null   int64 \n",
      " 5   항목순번     1365 non-null   int64 \n",
      "dtypes: int64(3), object(3)\n",
      "memory usage: 64.1+ KB\n"
     ]
    }
   ],
   "source": [
    "df3.info()"
   ]
  },
  {
   "cell_type": "code",
   "execution_count": 34,
   "metadata": {},
   "outputs": [
    {
     "data": {
      "text/plain": [
       "사고번호       0\n",
       "사고 시도명     0\n",
       "사고 시군구명    0\n",
       "상세 발생원인    0\n",
       "사고일자       0\n",
       "항목순번       0\n",
       "dtype: int64"
      ]
     },
     "execution_count": 34,
     "metadata": {},
     "output_type": "execute_result"
    }
   ],
   "source": [
    "df3.isna().sum()"
   ]
  },
  {
   "cell_type": "markdown",
   "metadata": {},
   "source": [
    "상세 원인 구분\n",
    "1. 다짐 불량\n",
    "2. 매설물 손상\n",
    "3. 공사 부실\n",
    "4. 지하수\n",
    "5. 연약지반 침하\n",
    "6. 폐광 붕괴\n",
    "7. 포장공사 불량"
   ]
  },
  {
   "cell_type": "markdown",
   "metadata": {},
   "source": [
    "1. 다짐 불량"
   ]
  },
  {
   "cell_type": "code",
   "execution_count": 95,
   "metadata": {},
   "outputs": [
    {
     "name": "stdout",
     "output_type": "stream",
     "text": [
      "<class 'pandas.core.frame.DataFrame'>\n",
      "Index: 159 entries, 9 to 1321\n",
      "Data columns (total 6 columns):\n",
      " #   Column   Non-Null Count  Dtype \n",
      "---  ------   --------------  ----- \n",
      " 0   사고번호     159 non-null    int64 \n",
      " 1   사고 시도명   159 non-null    object\n",
      " 2   사고 시군구명  159 non-null    object\n",
      " 3   상세 발생원인  159 non-null    object\n",
      " 4   사고일자     159 non-null    int64 \n",
      " 5   항목순번     159 non-null    int64 \n",
      "dtypes: int64(3), object(3)\n",
      "memory usage: 8.7+ KB\n"
     ]
    }
   ],
   "source": [
    "df_d = df3[df3['상세 발생원인'].str.contains('다짐')]\n",
    "df_d.info()"
   ]
  },
  {
   "cell_type": "markdown",
   "metadata": {},
   "source": [
    "2. 매설물 손상\n",
    "    1) 상수관로\n",
    "    2) 하수관로\n",
    "    3) 전기 통신관로\n",
    "    4) 기타매설물"
   ]
  },
  {
   "cell_type": "code",
   "execution_count": null,
   "metadata": {},
   "outputs": [
    {
     "name": "stdout",
     "output_type": "stream",
     "text": [
      "<class 'pandas.core.frame.DataFrame'>\n",
      "Index: 897 entries, 0 to 1364\n",
      "Data columns (total 6 columns):\n",
      " #   Column   Non-Null Count  Dtype \n",
      "---  ------   --------------  ----- \n",
      " 0   사고번호     897 non-null    int64 \n",
      " 1   사고 시도명   897 non-null    object\n",
      " 2   사고 시군구명  897 non-null    object\n",
      " 3   상세 발생원인  897 non-null    object\n",
      " 4   사고일자     897 non-null    int64 \n",
      " 5   항목순번     897 non-null    int64 \n",
      "dtypes: int64(3), object(3)\n",
      "memory usage: 49.1+ KB\n"
     ]
    }
   ],
   "source": [
    "df_s = df3[df3['상세 발생원인'].str.contains('손상|파손|폐쇄|파열|크랙|노후|슬래브|누수|통신|관로|지하매설물|기타매설물|맨홀|우수|하수|유실|손궤|이탈')]\n",
    "df_s.info()"
   ]
  },
  {
   "cell_type": "markdown",
   "metadata": {},
   "source": [
    "3. 공사 부실\n",
    "    1. 굴착 공사\n",
    "    2. 상하수관 공사\n",
    "    3. 지하구조물 건설\n",
    "    4. 기타 매설 공사"
   ]
  },
  {
   "cell_type": "code",
   "execution_count": null,
   "metadata": {},
   "outputs": [
    {
     "name": "stdout",
     "output_type": "stream",
     "text": [
      "<class 'pandas.core.frame.DataFrame'>\n",
      "Index: 412 entries, 1 to 1363\n",
      "Data columns (total 6 columns):\n",
      " #   Column   Non-Null Count  Dtype \n",
      "---  ------   --------------  ----- \n",
      " 0   사고번호     412 non-null    int64 \n",
      " 1   사고 시도명   412 non-null    object\n",
      " 2   사고 시군구명  412 non-null    object\n",
      " 3   상세 발생원인  412 non-null    object\n",
      " 4   사고일자     412 non-null    int64 \n",
      " 5   항목순번     412 non-null    int64 \n",
      "dtypes: int64(3), object(3)\n",
      "memory usage: 22.5+ KB\n"
     ]
    }
   ],
   "source": [
    "df_g = df3[df3['상세 발생원인'].str.contains('건설|건물|공사|불량|기초세굴|부동침하|시공부실|흙막이|연결|미철거|타공사')]\n",
    "df_g.info()"
   ]
  },
  {
   "cell_type": "code",
   "execution_count": null,
   "metadata": {},
   "outputs": [
    {
     "name": "stdout",
     "output_type": "stream",
     "text": [
      "<class 'pandas.core.frame.DataFrame'>\n",
      "Index: 34 entries, 70 to 1359\n",
      "Data columns (total 6 columns):\n",
      " #   Column   Non-Null Count  Dtype \n",
      "---  ------   --------------  ----- \n",
      " 0   사고번호     34 non-null     int64 \n",
      " 1   사고 시도명   34 non-null     object\n",
      " 2   사고 시군구명  34 non-null     object\n",
      " 3   상세 발생원인  34 non-null     object\n",
      " 4   사고일자     34 non-null     int64 \n",
      " 5   항목순번     34 non-null     int64 \n",
      "dtypes: int64(3), object(3)\n",
      "memory usage: 1.9+ KB\n"
     ]
    }
   ],
   "source": [
    "df_u = df3[df3['상세 발생원인'].str.contains('지하수|하천')]\n",
    "df_u.info()"
   ]
  },
  {
   "cell_type": "code",
   "execution_count": 119,
   "metadata": {},
   "outputs": [
    {
     "name": "stdout",
     "output_type": "stream",
     "text": [
      "<class 'pandas.core.frame.DataFrame'>\n",
      "Index: 37 entries, 73 to 1344\n",
      "Data columns (total 6 columns):\n",
      " #   Column   Non-Null Count  Dtype \n",
      "---  ------   --------------  ----- \n",
      " 0   사고번호     37 non-null     int64 \n",
      " 1   사고 시도명   37 non-null     object\n",
      " 2   사고 시군구명  37 non-null     object\n",
      " 3   상세 발생원인  37 non-null     object\n",
      " 4   사고일자     37 non-null     int64 \n",
      " 5   항목순번     37 non-null     int64 \n",
      "dtypes: int64(3), object(3)\n",
      "memory usage: 2.0+ KB\n"
     ]
    }
   ],
   "source": [
    "df_y = df3[df3['상세 발생원인'].str.contains('연약지반|석회암|단순침하|자연침하|잔류')]\n",
    "df_y.info()"
   ]
  },
  {
   "cell_type": "code",
   "execution_count": 120,
   "metadata": {},
   "outputs": [
    {
     "name": "stdout",
     "output_type": "stream",
     "text": [
      "<class 'pandas.core.frame.DataFrame'>\n",
      "Index: 54 entries, 46 to 1358\n",
      "Data columns (total 6 columns):\n",
      " #   Column   Non-Null Count  Dtype \n",
      "---  ------   --------------  ----- \n",
      " 0   사고번호     54 non-null     int64 \n",
      " 1   사고 시도명   54 non-null     object\n",
      " 2   사고 시군구명  54 non-null     object\n",
      " 3   상세 발생원인  54 non-null     object\n",
      " 4   사고일자     54 non-null     int64 \n",
      " 5   항목순번     54 non-null     int64 \n",
      "dtypes: int64(3), object(3)\n",
      "memory usage: 3.0+ KB\n"
     ]
    }
   ],
   "source": [
    "df_p = df3[df3['상세 발생원인'].str.contains('우천|호우|파랑|토탄층')]\n",
    "df_p.info()"
   ]
  },
  {
   "cell_type": "code",
   "execution_count": 102,
   "metadata": {},
   "outputs": [
    {
     "name": "stdout",
     "output_type": "stream",
     "text": [
      "<class 'pandas.core.frame.DataFrame'>\n",
      "Index: 22 entries, 41 to 1233\n",
      "Data columns (total 6 columns):\n",
      " #   Column   Non-Null Count  Dtype \n",
      "---  ------   --------------  ----- \n",
      " 0   사고번호     22 non-null     int64 \n",
      " 1   사고 시도명   22 non-null     object\n",
      " 2   사고 시군구명  22 non-null     object\n",
      " 3   상세 발생원인  22 non-null     object\n",
      " 4   사고일자     22 non-null     int64 \n",
      " 5   항목순번     22 non-null     int64 \n",
      "dtypes: int64(3), object(3)\n",
      "memory usage: 1.2+ KB\n"
     ]
    }
   ],
   "source": [
    "df_p = df3[df3['상세 발생원인'].str.contains('포장')]\n",
    "df_p.info()"
   ]
  },
  {
   "cell_type": "code",
   "execution_count": 107,
   "metadata": {},
   "outputs": [
    {
     "name": "stdout",
     "output_type": "stream",
     "text": [
      "<class 'pandas.core.frame.DataFrame'>\n",
      "Index: 202 entries, 3 to 1358\n",
      "Data columns (total 6 columns):\n",
      " #   Column   Non-Null Count  Dtype \n",
      "---  ------   --------------  ----- \n",
      " 0   사고번호     202 non-null    int64 \n",
      " 1   사고 시도명   202 non-null    object\n",
      " 2   사고 시군구명  202 non-null    object\n",
      " 3   상세 발생원인  202 non-null    object\n",
      " 4   사고일자     202 non-null    int64 \n",
      " 5   항목순번     202 non-null    int64 \n",
      "dtypes: int64(3), object(3)\n",
      "memory usage: 11.0+ KB\n"
     ]
    }
   ],
   "source": [
    "df_p = df3[df3['상세 발생원인'].str.contains('토사 유실|토사유실')]\n",
    "df_p.info()"
   ]
  },
  {
   "cell_type": "code",
   "execution_count": null,
   "metadata": {},
   "outputs": [],
   "source": [
    "df_p = df3[df3['상세 발생원인'].str.contains('포장')]\n",
    "df_p.info()"
   ]
  },
  {
   "cell_type": "code",
   "execution_count": 64,
   "metadata": {},
   "outputs": [
    {
     "name": "stdout",
     "output_type": "stream",
     "text": [
      "<class 'pandas.core.frame.DataFrame'>\n",
      "Index: 47 entries, 53 to 1334\n",
      "Data columns (total 6 columns):\n",
      " #   Column   Non-Null Count  Dtype \n",
      "---  ------   --------------  ----- \n",
      " 0   사고번호     47 non-null     int64 \n",
      " 1   사고 시도명   47 non-null     object\n",
      " 2   사고 시군구명  47 non-null     object\n",
      " 3   상세 발생원인  47 non-null     object\n",
      " 4   사고일자     47 non-null     int64 \n",
      " 5   항목순번     47 non-null     int64 \n",
      "dtypes: int64(3), object(3)\n",
      "memory usage: 2.6+ KB\n"
     ]
    }
   ],
   "source": [
    "df_m = df3[df3['상세 발생원인'].str.contains('원인미상|불명|기타|명확하지 않음|알수없음')]\n",
    "df_m.info()"
   ]
  },
  {
   "cell_type": "markdown",
   "metadata": {},
   "source": [
    "-----------------------------------------"
   ]
  },
  {
   "cell_type": "code",
   "execution_count": 90,
   "metadata": {},
   "outputs": [
    {
     "name": "stdout",
     "output_type": "stream",
     "text": [
      "<class 'pandas.core.frame.DataFrame'>\n",
      "Index: 20 entries, 349 to 421\n",
      "Data columns (total 6 columns):\n",
      " #   Column   Non-Null Count  Dtype \n",
      "---  ------   --------------  ----- \n",
      " 0   사고번호     20 non-null     int64 \n",
      " 1   사고 시도명   20 non-null     object\n",
      " 2   사고 시군구명  20 non-null     object\n",
      " 3   상세 발생원인  20 non-null     object\n",
      " 4   사고일자     20 non-null     int64 \n",
      " 5   항목순번     20 non-null     int64 \n",
      "dtypes: int64(3), object(3)\n",
      "memory usage: 1.1+ KB\n"
     ]
    }
   ],
   "source": [
    "df_n = df3[df3['상세 발생원인'].str.contains('원도심')]\n",
    "df_n.info()"
   ]
  },
  {
   "cell_type": "code",
   "execution_count": 88,
   "metadata": {},
   "outputs": [
    {
     "name": "stdout",
     "output_type": "stream",
     "text": [
      "<class 'pandas.core.frame.DataFrame'>\n",
      "Index: 11 entries, 4 to 1122\n",
      "Data columns (total 6 columns):\n",
      " #   Column   Non-Null Count  Dtype \n",
      "---  ------   --------------  ----- \n",
      " 0   사고번호     11 non-null     int64 \n",
      " 1   사고 시도명   11 non-null     object\n",
      " 2   사고 시군구명  11 non-null     object\n",
      " 3   상세 발생원인  11 non-null     object\n",
      " 4   사고일자     11 non-null     int64 \n",
      " 5   항목순번     11 non-null     int64 \n",
      "dtypes: int64(3), object(3)\n",
      "memory usage: 616.0+ bytes\n"
     ]
    }
   ],
   "source": [
    "df_h = df3[df3['상세 발생원인'].str.contains('중량|잔류|초과하중')]\n",
    "df_h.info()"
   ]
  }
 ],
 "metadata": {
  "kernelspec": {
   "display_name": "earthquake",
   "language": "python",
   "name": "python3"
  },
  "language_info": {
   "codemirror_mode": {
    "name": "ipython",
    "version": 3
   },
   "file_extension": ".py",
   "mimetype": "text/x-python",
   "name": "python",
   "nbconvert_exporter": "python",
   "pygments_lexer": "ipython3",
   "version": "3.10.11"
  }
 },
 "nbformat": 4,
 "nbformat_minor": 2
}
